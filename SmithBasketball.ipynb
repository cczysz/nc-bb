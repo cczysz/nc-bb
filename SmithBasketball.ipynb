{
 "cells": [
  {
   "cell_type": "code",
   "execution_count": 36,
   "metadata": {
    "collapsed": false
   },
   "outputs": [],
   "source": [
    "from numpy import *\n",
    "import csv\n",
    "import scipy\n",
    "from pandas import *\n",
    "import matplotlib.pyplot as plt\n",
    "%matplotlib inline"
   ]
  },
  {
   "cell_type": "code",
   "execution_count": 52,
   "metadata": {
    "collapsed": false
   },
   "outputs": [],
   "source": [
    "all_scores = {'Duke' : [], 'UNC' : []}\n",
    "with open('all_predictions.csv', 'r') as csvfile:\n",
    "    reader = csv.reader(csvfile)\n",
    "    next(reader, None) # Skip header\n",
    "    for row in reader:\n",
    "        all_scores['Duke'].append(int(row[0]))\n",
    "        all_scores['UNC'].append(int(row[1]))\n",
    "    #all_scores = list(reader)"
   ]
  },
  {
   "cell_type": "code",
   "execution_count": 54,
   "metadata": {
    "collapsed": true
   },
   "outputs": [],
   "source": [
    "outlier_rm_scores = {'Duke' : [], 'UNC' : []}\n",
    "with open('outliers_removed.csv', 'r') as csvfile:\n",
    "    reader = csv.reader(csvfile)\n",
    "    next(reader, None) # Skip header\n",
    "    for row in reader:\n",
    "        outlier_rm_scores['Duke'].append(int(row[0]))\n",
    "        outlier_rm_scores['UNC'].append(int(row[1]))\n",
    "    #all_scores = list(reader)"
   ]
  },
  {
   "cell_type": "code",
   "execution_count": 55,
   "metadata": {
    "collapsed": false
   },
   "outputs": [],
   "source": [
    "alldf = DataFrame(all_scores)\n",
    "out_rm_df = DataFrame(outlier_rm_scores)\n",
    "#print(all_df)\n",
    "#print(out_rm_df)"
   ]
  },
  {
   "cell_type": "code",
   "execution_count": 56,
   "metadata": {
    "collapsed": false
   },
   "outputs": [
    {
     "name": "stdout",
     "output_type": "stream",
     "text": [
      "    Duke  UNC\n",
      "0     58   73\n",
      "1     67   68\n",
      "2     61   70\n",
      "3     71   66\n",
      "4     68   75\n",
      "5     62   57\n",
      "6     43   54\n",
      "7     53   68\n",
      "8     71   79\n",
      "9     63   68\n",
      "10    69   69\n",
      "11    47   69\n",
      "12    65   73\n",
      "13    71   66\n",
      "14    75   65\n",
      "15   169    1\n",
      "16    72   81\n",
      "17   100    0\n",
      "18    61   71\n",
      "19    66   68\n",
      "20    70   80\n",
      "21    67   65\n",
      "22    62   51\n"
     ]
    }
   ],
   "source": [
    "print(alldf)"
   ]
  },
  {
   "cell_type": "code",
   "execution_count": 57,
   "metadata": {
    "collapsed": false
   },
   "outputs": [
    {
     "name": "stdout",
     "output_type": "stream",
     "text": [
      "    Duke  UNC\n",
      "0     58   73\n",
      "1     67   68\n",
      "2     61   70\n",
      "3     71   66\n",
      "4     68   75\n",
      "5     62   57\n",
      "6     43   54\n",
      "7     53   68\n",
      "8     71   79\n",
      "9     63   68\n",
      "10    69   69\n",
      "11    47   69\n",
      "12    65   73\n",
      "13    71   66\n",
      "14    75   65\n",
      "15    72   81\n",
      "16    61   71\n",
      "17    66   68\n",
      "18    70   80\n",
      "19    67   65\n",
      "20    62   51\n"
     ]
    }
   ],
   "source": [
    "print(out_rm_df)"
   ]
  },
  {
   "cell_type": "code",
   "execution_count": 58,
   "metadata": {
    "collapsed": false
   },
   "outputs": [
    {
     "data": {
      "text/plain": [
       "<matplotlib.axes._subplots.AxesSubplot at 0x107fbd8d0>"
      ]
     },
     "execution_count": 58,
     "metadata": {},
     "output_type": "execute_result"
    },
    {
     "data": {
      "image/png": "[encoded data removed]",
      "text/plain": [
       "<matplotlib.figure.Figure at 0x107fc2dd8>"
      ]
     },
     "metadata": {},
     "output_type": "display_data"
    }
   ],
   "source": [
    "alldf.plot(kind=\"scatter\", x='Duk', y='Duke')"
   ]
  },
  {
   "cell_type": "code",
   "execution_count": 151,
   "metadata": {
    "collapsed": false
   },
   "outputs": [
    {
     "data": {
      "image/png": "[encoded data removed]",
      "text/plain": [
       "<matplotlib.figure.Figure at 0x10c5c6208>"
      ]
     },
     "metadata": {},
     "output_type": "display_data"
    }
   ],
   "source": [
    "df_rmoutlier.plot(kind=\"scatter\", x='Duke', y='UNC')\n",
    "plt.plot([40,100],[40,100], 'r-')\n",
    "plt.show()"
   ]
  },
  {
   "cell_type": "code",
   "execution_count": 128,
   "metadata": {
    "collapsed": false
   },
   "outputs": [],
   "source": [
    "duke_minus_unc = df[\"Duke\"] - df[\"UNC\"]"
   ]
  },
  {
   "cell_type": "code",
   "execution_count": 130,
   "metadata": {
    "collapsed": false
   },
   "outputs": [
    {
     "data": {
      "text/html": [
       "<div>\n",
       "<table border=\"1\" class=\"dataframe\">\n",
       "  <thead>\n",
       "    <tr style=\"text-align: right;\">\n",
       "      <th></th>\n",
       "      <th>Duke</th>\n",
       "      <th>UNC</th>\n",
       "      <th>0</th>\n",
       "    </tr>\n",
       "  </thead>\n",
       "  <tbody>\n",
       "    <tr>\n",
       "      <th>Smiff</th>\n",
       "      <td>58</td>\n",
       "      <td>73</td>\n",
       "      <td>-15</td>\n",
       "    </tr>\n",
       "    <tr>\n",
       "      <th>Emmanuel</th>\n",
       "      <td>67</td>\n",
       "      <td>68</td>\n",
       "      <td>-1</td>\n",
       "    </tr>\n",
       "    <tr>\n",
       "      <th>Jalen</th>\n",
       "      <td>61</td>\n",
       "      <td>70</td>\n",
       "      <td>-9</td>\n",
       "    </tr>\n",
       "    <tr>\n",
       "      <th>Kevyn</th>\n",
       "      <td>71</td>\n",
       "      <td>66</td>\n",
       "      <td>5</td>\n",
       "    </tr>\n",
       "    <tr>\n",
       "      <th>Kevin</th>\n",
       "      <td>68</td>\n",
       "      <td>75</td>\n",
       "      <td>-7</td>\n",
       "    </tr>\n",
       "    <tr>\n",
       "      <th>Stephen H.</th>\n",
       "      <td>62</td>\n",
       "      <td>57</td>\n",
       "      <td>5</td>\n",
       "    </tr>\n",
       "    <tr>\n",
       "      <th>Symone</th>\n",
       "      <td>43</td>\n",
       "      <td>54</td>\n",
       "      <td>-11</td>\n",
       "    </tr>\n",
       "    <tr>\n",
       "      <th>Marcus</th>\n",
       "      <td>53</td>\n",
       "      <td>68</td>\n",
       "      <td>-15</td>\n",
       "    </tr>\n",
       "    <tr>\n",
       "      <th>Ben</th>\n",
       "      <td>71</td>\n",
       "      <td>79</td>\n",
       "      <td>-8</td>\n",
       "    </tr>\n",
       "    <tr>\n",
       "      <th>James</th>\n",
       "      <td>63</td>\n",
       "      <td>68</td>\n",
       "      <td>-5</td>\n",
       "    </tr>\n",
       "    <tr>\n",
       "      <th>Isami</th>\n",
       "      <td>69</td>\n",
       "      <td>69</td>\n",
       "      <td>0</td>\n",
       "    </tr>\n",
       "    <tr>\n",
       "      <th>Kenny</th>\n",
       "      <td>47</td>\n",
       "      <td>69</td>\n",
       "      <td>-22</td>\n",
       "    </tr>\n",
       "    <tr>\n",
       "      <th>Justin</th>\n",
       "      <td>65</td>\n",
       "      <td>73</td>\n",
       "      <td>-8</td>\n",
       "    </tr>\n",
       "    <tr>\n",
       "      <th>Jasper</th>\n",
       "      <td>71</td>\n",
       "      <td>66</td>\n",
       "      <td>5</td>\n",
       "    </tr>\n",
       "    <tr>\n",
       "      <th>Toone</th>\n",
       "      <td>75</td>\n",
       "      <td>65</td>\n",
       "      <td>10</td>\n",
       "    </tr>\n",
       "    <tr>\n",
       "      <th>Zach</th>\n",
       "      <td>169</td>\n",
       "      <td>1</td>\n",
       "      <td>168</td>\n",
       "    </tr>\n",
       "    <tr>\n",
       "      <th>Ray</th>\n",
       "      <td>72</td>\n",
       "      <td>81</td>\n",
       "      <td>-9</td>\n",
       "    </tr>\n",
       "    <tr>\n",
       "      <th>Zay</th>\n",
       "      <td>100</td>\n",
       "      <td>0</td>\n",
       "      <td>100</td>\n",
       "    </tr>\n",
       "    <tr>\n",
       "      <th>Josh</th>\n",
       "      <td>61</td>\n",
       "      <td>71</td>\n",
       "      <td>-10</td>\n",
       "    </tr>\n",
       "    <tr>\n",
       "      <th>Jyles</th>\n",
       "      <td>66</td>\n",
       "      <td>68</td>\n",
       "      <td>-2</td>\n",
       "    </tr>\n",
       "    <tr>\n",
       "      <th>Alex</th>\n",
       "      <td>70</td>\n",
       "      <td>80</td>\n",
       "      <td>-10</td>\n",
       "    </tr>\n",
       "    <tr>\n",
       "      <th>Jaden</th>\n",
       "      <td>67</td>\n",
       "      <td>65</td>\n",
       "      <td>2</td>\n",
       "    </tr>\n",
       "    <tr>\n",
       "      <th>Jumana</th>\n",
       "      <td>62</td>\n",
       "      <td>51</td>\n",
       "      <td>11</td>\n",
       "    </tr>\n",
       "  </tbody>\n",
       "</table>\n",
       "</div>"
      ],
      "text/plain": [
       "            Duke  UNC    0\n",
       "Smiff         58   73  -15\n",
       "Emmanuel      67   68   -1\n",
       "Jalen         61   70   -9\n",
       "Kevyn         71   66    5\n",
       "Kevin         68   75   -7\n",
       "Stephen H.    62   57    5\n",
       "Symone        43   54  -11\n",
       "Marcus        53   68  -15\n",
       "Ben           71   79   -8\n",
       "James         63   68   -5\n",
       "Isami         69   69    0\n",
       "Kenny         47   69  -22\n",
       "Justin        65   73   -8\n",
       "Jasper        71   66    5\n",
       "Toone         75   65   10\n",
       "Zach         169    1  168\n",
       "Ray           72   81   -9\n",
       "Zay          100    0  100\n",
       "Josh          61   71  -10\n",
       "Jyles         66   68   -2\n",
       "Alex          70   80  -10\n",
       "Jaden         67   65    2\n",
       "Jumana        62   51   11"
      ]
     },
     "execution_count": 130,
     "metadata": {},
     "output_type": "execute_result"
    }
   ],
   "source": [
    "concat([df, duke_minus_unc], axis=1)"
   ]
  },
  {
   "cell_type": "code",
   "execution_count": null,
   "metadata": {
    "collapsed": true
   },
   "outputs": [],
   "source": []
  }
 ],
 "metadata": {
  "kernelspec": {
   "display_name": "Python 3",
   "language": "python",
   "name": "python3"
  },
  "language_info": {
   "codemirror_mode": {
    "name": "ipython",
    "version": 3
   },
   "file_extension": ".py",
   "mimetype": "text/x-python",
   "name": "python",
   "nbconvert_exporter": "python",
   "pygments_lexer": "ipython3",
   "version": "3.5.1"
  }
 },
 "nbformat": 4,
 "nbformat_minor": 0
}
